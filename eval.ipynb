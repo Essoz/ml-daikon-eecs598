{
 "cells": [
  {
   "cell_type": "code",
   "execution_count": 1,
   "metadata": {},
   "outputs": [],
   "source": [
    "with open('out.txt') as f:\n",
    "    lines = f.readlines()\n",
    "    "
   ]
  },
  {
   "cell_type": "code",
   "execution_count": 2,
   "metadata": {},
   "outputs": [
    {
     "data": {
      "text/plain": [
       "10000"
      ]
     },
     "execution_count": 2,
     "metadata": {},
     "output_type": "execute_result"
    }
   ],
   "source": [
    "len(lines)"
   ]
  },
  {
   "cell_type": "code",
   "execution_count": 19,
   "metadata": {},
   "outputs": [],
   "source": [
    "# count number of unique keys and alues\n",
    "\n",
    "# for line in lines:\n",
    "\n",
    "key_set = set()\n",
    "val_set = set()\n",
    "\n",
    "dict_list = lines[0].split('{')[1].split('}')[0].split(',')\n",
    "total_length = 0\n",
    "for d in dict_list:\n",
    "    key = d.split(':')[0].strip()\n",
    "    val= d.split(':')[1].strip()\n",
    "    total_length += len(val) + len(key)\n",
    "    if key not in key_set:\n",
    "        key_set.add(key)\n",
    "    if val not in val_set:\n",
    "        val_set.add(val)\n",
    "\n",
    "\n"
   ]
  },
  {
   "cell_type": "code",
   "execution_count": 9,
   "metadata": {},
   "outputs": [],
   "source": [
    "import os\n",
    "\n",
    "def reverse_readline(filename, buf_size=8192, num_lines=10):\n",
    "    \"\"\"A generator that returns the lines of a file in reverse order\"\"\"\n",
    "    with open(filename, 'rb') as fh:\n",
    "        segment = None\n",
    "        offset = 0\n",
    "        fh.seek(0, os.SEEK_END)\n",
    "        file_size = remaining_size = fh.tell()\n",
    "        while remaining_size > 0 and num_lines > 0:\n",
    "            offset = min(file_size, offset + buf_size)\n",
    "            fh.seek(file_size - offset)\n",
    "            buffer = fh.read(min(remaining_size, buf_size))\n",
    "            # remove file's last \"\\n\" if it exists, only for the first buffer\n",
    "            if remaining_size == file_size and buffer[-1] == ord('\\n'):\n",
    "                buffer = buffer[:-1]\n",
    "            remaining_size -= buf_size\n",
    "            lines = buffer.split('\\n'.encode())\n",
    "            # append last chunk's segment to this chunk's last line\n",
    "            if segment is not None:\n",
    "                lines[-1] += segment\n",
    "            segment = lines[0]\n",
    "            lines = lines[1:]\n",
    "            # yield lines in this chunk except the segment\n",
    "\n",
    "            num_lines -= lines.count(b'')\n",
    "\n",
    "            for line in reversed(lines):\n",
    "                # only decode on a parsed line, to avoid utf-8 decode error\n",
    "                yield line.decode()\n",
    "        # Don't yield None if the file was empty\n",
    "        if segment is not None:\n",
    "            yield segment.decode()\n"
   ]
  },
  {
   "cell_type": "code",
   "execution_count": 11,
   "metadata": {},
   "outputs": [
    {
     "ename": "SyntaxError",
     "evalue": "'yield' outside function (1182442244.py, line 1)",
     "output_type": "error",
     "traceback": [
      "\u001b[0;36m  Cell \u001b[0;32mIn[11], line 1\u001b[0;36m\u001b[0m\n\u001b[0;31m    yield reverse_readline('mnist_ml_daikon.log')\u001b[0m\n\u001b[0m    ^\u001b[0m\n\u001b[0;31mSyntaxError\u001b[0m\u001b[0;31m:\u001b[0m 'yield' outside function\n"
     ]
    }
   ],
   "source": [
    "# call the generator function\n"
   ]
  },
  {
   "cell_type": "code",
   "execution_count": 22,
   "metadata": {},
   "outputs": [
    {
     "name": "stdout",
     "output_type": "stream",
     "text": [
      "10.0\n",
      "15.0\n",
      "20.0\n"
     ]
    }
   ],
   "source": [
    "class RunningAverage:\n",
    "    def __init__(self):\n",
    "        self.total = 0\n",
    "        self.count = 0\n",
    "    \n",
    "    def update_average(self, value):\n",
    "        self.total += value\n",
    "        self.count += 1\n",
    "        return self.total / self.count\n",
    "    \n",
    "    def get(self):\n",
    "        return self.total / self.count\n",
    "\n",
    "# Example usage:\n",
    "avg_calculator = RunningAverage()\n",
    "print(avg_calculator.update_average(10))\n",
    "print(avg_calculator.update_average(20))\n",
    "print(avg_calculator.update_average(30))"
   ]
  },
  {
   "cell_type": "code",
   "execution_count": 23,
   "metadata": {},
   "outputs": [],
   "source": [
    "\n",
    "key_set = set()\n",
    "val_set = set()\n",
    "\n",
    "avg_calculator = RunningAverage()\n",
    "\n",
    "for line in lines: \n",
    "\n",
    "    dict_list = line.split('{')[1].split('}')[0].split(',')\n",
    "    total_length = 0\n",
    "    for d in dict_list:\n",
    "        key = d.split(':')[0].strip()\n",
    "        val= d.split(':')[1].strip()\n",
    "        total_length += len(val) + len(key)\n",
    "        if key not in key_set:\n",
    "            key_set.add(key)\n",
    "        if val not in val_set:\n",
    "            val_set.add(val)\n",
    "\n",
    "    avg_calculator.update_average(total_length)    \n",
    "\n"
   ]
  },
  {
   "cell_type": "code",
   "execution_count": 24,
   "metadata": {},
   "outputs": [
    {
     "data": {
      "text/plain": [
       "147.047"
      ]
     },
     "execution_count": 24,
     "metadata": {},
     "output_type": "execute_result"
    }
   ],
   "source": [
    "avg_calculator.get()"
   ]
  },
  {
   "cell_type": "code",
   "execution_count": 25,
   "metadata": {},
   "outputs": [
    {
     "data": {
      "text/plain": [
       "6"
      ]
     },
     "execution_count": 25,
     "metadata": {},
     "output_type": "execute_result"
    }
   ],
   "source": [
    "len(key_set)"
   ]
  },
  {
   "cell_type": "code",
   "execution_count": 26,
   "metadata": {},
   "outputs": [
    {
     "data": {
      "text/plain": [
       "5049"
      ]
     },
     "execution_count": 26,
     "metadata": {},
     "output_type": "execute_result"
    }
   ],
   "source": [
    "len(val_set)"
   ]
  },
  {
   "cell_type": "code",
   "execution_count": 28,
   "metadata": {},
   "outputs": [],
   "source": [
    "normal_mnist_runs = [54.27317254199443, 54.43893554100214, 55.66749316699861, 56.836640499997884, 55.58471399999689]\n",
    "instrumented_mnist_runs = [208.80613483300112, 210.31100999999762,216.68230700000277, 243.4741742499973, 238.5601472920025]\n",
    "# runtime of 5 runs of 5 training epochs on Finn's mac m1; ask him for setup if you want to reproduce\n"
   ]
  },
  {
   "cell_type": "code",
   "execution_count": 29,
   "metadata": {},
   "outputs": [
    {
     "data": {
      "image/png": "[encoded data removed]",
      "text/plain": [
       "<Figure size 640x480 with 1 Axes>"
      ]
     },
     "metadata": {},
     "output_type": "display_data"
    }
   ],
   "source": [
    "import numpy as np\n",
    "import matplotlib.pyplot as plt\n",
    "\n",
    "# Averaging the data\n",
    "normal_avg = np.mean(normal_mnist_runs)\n",
    "instrumented_avg = np.mean(instrumented_mnist_runs)\n",
    "\n",
    "# Data for plotting\n",
    "averages = [normal_avg, instrumented_avg]\n",
    "labels = ['Normal MNIST', 'Instrumented MNIST']\n",
    "\n",
    "# Creating the bar chart\n",
    "fig, ax = plt.subplots()\n",
    "ax.bar(labels, averages, color=['pink', 'orange'])\n",
    "\n",
    "# Adding labels and title\n",
    "ax.set_ylabel('Average Duration (seconds)')\n",
    "ax.set_title('Average Duration of MNIST Runs')\n",
    "ax.set_ylim(0, max(averages) * 1.1)  # Extend y-axis limit for better visualization\n",
    "\n",
    "# Show the plot\n",
    "plt.show()\n"
   ]
  },
  {
   "cell_type": "code",
   "execution_count": null,
   "metadata": {},
   "outputs": [],
   "source": []
  }
 ],
 "metadata": {
  "kernelspec": {
   "display_name": "598mlsys",
   "language": "python",
   "name": "python3"
  },
  "language_info": {
   "codemirror_mode": {
    "name": "ipython",
    "version": 3
   },
   "file_extension": ".py",
   "mimetype": "text/x-python",
   "name": "python",
   "nbconvert_exporter": "python",
   "pygments_lexer": "ipython3",
   "version": "3.10.13"
  }
 },
 "nbformat": 4,
 "nbformat_minor": 2
}
